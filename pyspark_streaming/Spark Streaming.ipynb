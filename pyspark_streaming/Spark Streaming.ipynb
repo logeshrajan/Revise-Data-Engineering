{
 "cells": [
  {
   "cell_type": "code",
   "execution_count": 0,
   "metadata": {
    "application/vnd.databricks.v1+cell": {
     "cellMetadata": {},
     "inputWidgets": {},
     "nuid": "0034245a-9055-457c-a3e2-b3a3bc1888d2",
     "showTitle": false,
     "tableResultSettingsMap": {},
     "title": ""
    }
   },
   "outputs": [],
   "source": [
    "from pyspark.sql.functions import *\n",
    "from pyspark.sql.types import *"
   ]
  },
  {
   "cell_type": "markdown",
   "metadata": {
    "application/vnd.databricks.v1+cell": {
     "cellMetadata": {
      "byteLimit": 2048000,
      "rowLimit": 10000
     },
     "inputWidgets": {},
     "nuid": "6470f32e-8ee2-4386-908f-e8e997ff292f",
     "showTitle": false,
     "tableResultSettingsMap": {},
     "title": ""
    }
   },
   "source": [
    "### READ JSON DATA (BATCH)"
   ]
  },
  {
   "cell_type": "code",
   "execution_count": 0,
   "metadata": {
    "application/vnd.databricks.v1+cell": {
     "cellMetadata": {
      "byteLimit": 2048000,
      "rowLimit": 10000
     },
     "collapsed": true,
     "inputWidgets": {},
     "nuid": "31b00aec-6c0f-4a52-8d06-e4d4c7de2eac",
     "showTitle": false,
     "tableResultSettingsMap": {},
     "title": ""
    }
   },
   "outputs": [],
   "source": [
    "# df = spark.read.format('json')\\\n",
    "#     .option('inferSchema', True)\\\n",
    "#     .option('multiLine', True)\\\n",
    "#     .load('/Volumes/catalog_deltalake/stream/streaming/jsonsource/')\n",
    "# # df.display()\n",
    "\n",
    "# df = df.select(\n",
    "#     'order_id',\n",
    "#     'timestamp',\n",
    "#     col('customer.customer_id').alias('customer_id'),\n",
    "#     col('customer.name').alias('name'),\n",
    "#     col('customer.email').alias('email'),\n",
    "#     col('customer.address.city').alias('city'),\n",
    "#     col('customer.address.country').alias('country'),\n",
    "#     col('customer.address.postal_code').alias('postal_code'),\n",
    "#     col(\"payment.method\").alias('method'),\n",
    "#     col(\"payment.transaction_id\").alias(\"payment_transaction_id\"),\n",
    "#     explode_outer(\"items\").alias('item'),\n",
    "#     explode_outer('metadata').alias('metadata')\n",
    "# )\n",
    "# df = df.select(\n",
    "#     'order_id',\n",
    "#     'timestamp',\n",
    "#     'customer_id',\n",
    "#     'name',\n",
    "#     'email',\n",
    "#     'city',\n",
    "#     'country',\n",
    "#     'postal_code',\n",
    "#     'method',\n",
    "#     'payment_transaction_id',\n",
    "#     col('item.item_id').alias('item_id'),\n",
    "#     col('item.price').alias('price'),\n",
    "#     col('item.quantity').alias('quantity'),\n",
    "#     'metadata.key',    'metadata.value' \n",
    "# )\n",
    "# display(df)"
   ]
  },
  {
   "cell_type": "code",
   "execution_count": 0,
   "metadata": {
    "application/vnd.databricks.v1+cell": {
     "cellMetadata": {
      "byteLimit": 2048000,
      "rowLimit": 10000
     },
     "inputWidgets": {},
     "nuid": "ed63e82f-a2c1-449b-bc32-0163f15ae065",
     "showTitle": false,
     "tableResultSettingsMap": {},
     "title": ""
    }
   },
   "outputs": [],
   "source": [
    "# df = spark.read.format('json')\\\n",
    "#     .option('inferSchema', True)\\\n",
    "#     .option('multiLine', True)\\\n",
    "#     .load('/Volumes/catalog_deltalake/stream/streaming/jsonsource/')\n",
    "# df.schema"
   ]
  },
  {
   "cell_type": "markdown",
   "metadata": {
    "application/vnd.databricks.v1+cell": {
     "cellMetadata": {},
     "inputWidgets": {},
     "nuid": "08e4540d-5048-4d33-a152-cd0cb2996fa3",
     "showTitle": false,
     "tableResultSettingsMap": {},
     "title": ""
    }
   },
   "source": [
    "### READ JSON DATA (STREAMING)"
   ]
  },
  {
   "cell_type": "code",
   "execution_count": 0,
   "metadata": {
    "application/vnd.databricks.v1+cell": {
     "cellMetadata": {
      "byteLimit": 2048000,
      "rowLimit": 10000
     },
     "inputWidgets": {},
     "nuid": "1848b9b0-a4fc-440f-b5c5-1992e4c78442",
     "showTitle": false,
     "tableResultSettingsMap": {},
     "title": ""
    }
   },
   "outputs": [],
   "source": [
    "my_json_schema = StructType([StructField('customer', StructType([StructField('address', StructType([StructField('city', StringType(), True), StructField('country', StringType(), True), StructField('postal_code', StringType(), True)]), True), StructField('customer_id', LongType(), True), StructField('email', StringType(), True), StructField('name', StringType(), True)]), True), StructField('items', ArrayType(StructType([StructField('item_id', StringType(), True), StructField('price', DoubleType(), True), StructField('product_name', StringType(), True), StructField('quantity', LongType(), True)]), True), True), StructField('metadata', ArrayType(StructType([StructField('key', StringType(), True), StructField('value', StringType(), True)]), True), True), StructField('order_id', StringType(), True), StructField('payment', StructType([StructField('method', StringType(), True), StructField('transaction_id', StringType(), True)]), True), StructField('timestamp', StringType(), True)])"
   ]
  },
  {
   "cell_type": "code",
   "execution_count": 0,
   "metadata": {
    "application/vnd.databricks.v1+cell": {
     "cellMetadata": {
      "byteLimit": 2048000,
      "rowLimit": 10000
     },
     "inputWidgets": {},
     "nuid": "1e1aeb18-99a0-4f22-9302-8a26d910ba55",
     "showTitle": false,
     "tableResultSettingsMap": {},
     "title": ""
    }
   },
   "outputs": [],
   "source": [
    "streaming_df = spark.readStream.format('json')\\\n",
    "    .schema(my_json_schema)\\\n",
    "    .option('multiLine', True)\\\n",
    "    .load('/Volumes/catalog_deltalake/stream/streaming/jsonsource/')\n",
    "\n",
    "streaming_df = streaming_df.select(\n",
    "    'order_id',\n",
    "    'timestamp',\n",
    "    col('customer.customer_id').alias('customer_id'),\n",
    "    col('customer.name').alias('name'),\n",
    "    col('customer.email').alias('email'),\n",
    "    col('customer.address.city').alias('city'),\n",
    "    col('customer.address.country').alias('country'),\n",
    "    col('customer.address.postal_code').alias('postal_code'),\n",
    "    col(\"payment.method\").alias('method'),\n",
    "    col(\"payment.transaction_id\").alias(\"payment_transaction_id\"),\n",
    "    explode_outer(\"items\").alias('item'),\n",
    "    explode_outer('metadata').alias('metadata')\n",
    ")\n",
    "streaming_df = streaming_df.select(\n",
    "    'order_id',\n",
    "    'timestamp',\n",
    "    'customer_id',\n",
    "    'name',\n",
    "    'email',\n",
    "    'city',\n",
    "    'country',\n",
    "    'postal_code',\n",
    "    'method',\n",
    "    'payment_transaction_id',\n",
    "    col('item.item_id').alias('item_id'),\n",
    "    col('item.price').alias('price'),\n",
    "    col('item.quantity').alias('quantity'),\n",
    "    'metadata.key',    'metadata.value' \n",
    ")\n"
   ]
  },
  {
   "cell_type": "code",
   "execution_count": 0,
   "metadata": {
    "application/vnd.databricks.v1+cell": {
     "cellMetadata": {
      "byteLimit": 2048000,
      "rowLimit": 10000
     },
     "inputWidgets": {},
     "nuid": "1536a0dc-05ef-4555-bda9-9137cefea341",
     "showTitle": false,
     "tableResultSettingsMap": {},
     "title": ""
    }
   },
   "outputs": [],
   "source": [
    "streaming_df.writeStream.format('delta')\\\n",
    "    .outputMode('append')\\\n",
    "    .option('checkpointLocation', '/Volumes/catalog_deltalake/stream/streaming/jsonsink/checkpoint')\\\n",
    "    .option('path', '/Volumes/catalog_deltalake/stream/streaming/jsonsink/delta')\\\n",
    "    .trigger(once=True )\\\n",
    "    .start()"
   ]
  },
  {
   "cell_type": "code",
   "execution_count": 0,
   "metadata": {
    "application/vnd.databricks.v1+cell": {
     "cellMetadata": {
      "byteLimit": 2048000,
      "implicitDf": true,
      "rowLimit": 10000
     },
     "inputWidgets": {},
     "nuid": "7ca781f5-a2ba-4159-ade9-93774ce7a389",
     "showTitle": false,
     "tableResultSettingsMap": {},
     "title": ""
    }
   },
   "outputs": [],
   "source": [
    "%sql\n",
    "select * from delta.`/Volumes/catalog_deltalake/stream/streaming/jsonsink/delta`"
   ]
  },
  {
   "cell_type": "markdown",
   "metadata": {
    "application/vnd.databricks.v1+cell": {
     "cellMetadata": {},
     "inputWidgets": {},
     "nuid": "c168bcac-094f-4528-b982-7a497802162e",
     "showTitle": false,
     "tableResultSettingsMap": {},
     "title": ""
    }
   },
   "source": [
    "### ARCHIVING\n",
    "It process the data only when process is there then move the processed file to archive location"
   ]
  },
  {
   "cell_type": "code",
   "execution_count": 0,
   "metadata": {
    "application/vnd.databricks.v1+cell": {
     "cellMetadata": {
      "byteLimit": 2048000,
      "rowLimit": 10000
     },
     "inputWidgets": {},
     "nuid": "5974f542-4eb7-4620-9a88-24996f332fab",
     "showTitle": false,
     "tableResultSettingsMap": {},
     "title": ""
    }
   },
   "outputs": [],
   "source": [
    "# dbutils.fs.mkdirs('/Volumes/catalog_deltalake/stream/streaming/json_source_new')\n",
    "# dbutils.fs.mkdirs('/Volumes/catalog_deltalake/stream/streaming/json_sorce_file_archives')\n",
    "# dbutils.fs.mkdirs('/Volumes/catalog_deltalake/stream/streaming/json_sink_archive')"
   ]
  },
  {
   "cell_type": "code",
   "execution_count": 0,
   "metadata": {
    "application/vnd.databricks.v1+cell": {
     "cellMetadata": {
      "byteLimit": 2048000,
      "rowLimit": 10000
     },
     "inputWidgets": {},
     "nuid": "e28aadf1-4f8e-4223-a4e5-fbc7e290fddb",
     "showTitle": false,
     "tableResultSettingsMap": {},
     "title": ""
    }
   },
   "outputs": [],
   "source": [
    "streaming_df = spark.readStream.format('json')\\\n",
    "    .schema(my_json_schema)\\\n",
    "    .option('multiLine', True)\\\n",
    "    .option('cleanSource', 'archive') \\\n",
    "    .option('sourceArchiveDir', '/Volumes/catalog_deltalake/stream/streaming/json_sorce_file_archives')\\\n",
    "    .load('/Volumes/catalog_deltalake/stream/streaming/json_source_new/')\n",
    "\n",
    "streaming_df = streaming_df.select(\n",
    "    'order_id',\n",
    "    'timestamp',\n",
    "    col('customer.customer_id').alias('customer_id'),\n",
    "    col('customer.name').alias('name'),\n",
    "    col('customer.email').alias('email'),\n",
    "    col('customer.address.city').alias('city'),\n",
    "    col('customer.address.country').alias('country'),\n",
    "    col('customer.address.postal_code').alias('postal_code'),\n",
    "    col(\"payment.method\").alias('method'),\n",
    "    col(\"payment.transaction_id\").alias(\"payment_transaction_id\"),\n",
    "    explode_outer(\"items\").alias('item'),\n",
    "    explode_outer('metadata').alias('metadata')\n",
    ")\n",
    "streaming_df = streaming_df.select(\n",
    "    'order_id',\n",
    "    'timestamp',\n",
    "    'customer_id',\n",
    "    'name',\n",
    "    'email',\n",
    "    'city',\n",
    "    'country',\n",
    "    'postal_code',\n",
    "    'method',\n",
    "    'payment_transaction_id',\n",
    "    col('item.item_id').alias('item_id'),\n",
    "    col('item.price').alias('price'),\n",
    "    col('item.quantity').alias('quantity'),\n",
    "    'metadata.key',    'metadata.value' \n",
    ")\n"
   ]
  },
  {
   "cell_type": "code",
   "execution_count": 0,
   "metadata": {
    "application/vnd.databricks.v1+cell": {
     "cellMetadata": {
      "byteLimit": 2048000,
      "rowLimit": 10000
     },
     "inputWidgets": {},
     "nuid": "cbab8af0-d9c3-4b9c-a4e8-b13469501078",
     "showTitle": false,
     "tableResultSettingsMap": {},
     "title": ""
    }
   },
   "outputs": [],
   "source": [
    "streaming_df.writeStream.format('delta')\\\n",
    "    .outputMode('append')\\\n",
    "    .option('checkpointLocation', '/Volumes/catalog_deltalake/stream/streaming/json_sink_archive/checkpoint')\\\n",
    "    .option('path', '/Volumes/catalog_deltalake/stream/streaming/json_sink_archive/delta')\\\n",
    "    .trigger(once=True )\\\n",
    "    .start()"
   ]
  },
  {
   "cell_type": "code",
   "execution_count": 0,
   "metadata": {
    "application/vnd.databricks.v1+cell": {
     "cellMetadata": {
      "byteLimit": 2048000,
      "implicitDf": true,
      "rowLimit": 10000
     },
     "inputWidgets": {},
     "nuid": "c2b7f3aa-81cf-4e0d-a64a-f9e6678f334e",
     "showTitle": false,
     "tableResultSettingsMap": {},
     "title": ""
    }
   },
   "outputs": [],
   "source": [
    "%sql\n",
    "select * from delta.`/Volumes/catalog_deltalake/stream/streaming/json_sink_archive/delta`"
   ]
  },
  {
   "cell_type": "code",
   "execution_count": 0,
   "metadata": {
    "application/vnd.databricks.v1+cell": {
     "cellMetadata": {},
     "inputWidgets": {},
     "nuid": "f4c98d88-d922-407a-ad24-61ecc251d2df",
     "showTitle": false,
     "tableResultSettingsMap": {},
     "title": ""
    }
   },
   "outputs": [],
   "source": []
  }
 ],
 "metadata": {
  "application/vnd.databricks.v1+notebook": {
   "computePreferences": {
    "hardware": {
     "accelerator": null,
     "gpuPoolId": null,
     "memory": null
    }
   },
   "dashboards": [],
   "environmentMetadata": {
    "base_environment": "",
    "environment_version": "3"
   },
   "inputWidgetPreferences": null,
   "language": "python",
   "notebookMetadata": {
    "mostRecentlyExecutedCommandWithImplicitDF": {
     "commandId": 6071417860252946,
     "dataframes": [
      "_sqldf"
     ]
    },
    "pythonIndentUnit": 4
   },
   "notebookName": "Spark Streaming",
   "widgets": {}
  },
  "language_info": {
   "name": "python"
  }
 },
 "nbformat": 4,
 "nbformat_minor": 0
}
