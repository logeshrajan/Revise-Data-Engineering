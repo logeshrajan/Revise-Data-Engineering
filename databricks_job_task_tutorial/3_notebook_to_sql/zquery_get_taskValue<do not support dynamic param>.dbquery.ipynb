{
 "cells": [
  {
   "cell_type": "code",
   "execution_count": 0,
   "metadata": {
    "application/vnd.databricks.v1+cell": {
     "cellMetadata": {
      "byteLimit": 10485760,
      "rowLimit": 1000
     },
     "inputWidgets": {},
     "nuid": "d227c475-a85b-4a46-8c64-5daffb767626",
     "showTitle": false,
     "tableResultSettingsMap": {},
     "title": ""
    }
   },
   "outputs": [],
   "source": [
    "-- IN SQL `QUERY` YOU CAN NOT PARAMETRIZE IN TASK AS OF NOW (SEP 2025)\n",
    "\n",
    "select *\n",
    "from IDENTIFIER(:table_name)\n",
    "WHERE employee = :employee_name"
   ]
  }
 ],
 "metadata": {
  "application/vnd.databricks.v1+notebook": {
   "computePreferences": null,
   "dashboards": [],
   "environmentMetadata": null,
   "inputWidgetPreferences": null,
   "language": "sql",
   "notebookMetadata": {
    "pythonIndentUnit": 4,
    "sqlQueryOptions": {
     "applyAutoLimit": true,
     "catalog": "datalakeadws",
     "schema": "default"
    }
   },
   "notebookName": "zquery_get_taskValue<do not support dynamic param>.dbquery.ipynb",
   "widgets": {
    "employee_name": {
     "currentValue": "",
     "nuid": "f0eed118-99a4-46e2-b574-8f38b17a1960",
     "typedWidgetInfo": {
      "autoCreated": true,
      "defaultValue": "",
      "label": null,
      "name": "employee_name",
      "options": {
       "widgetDisplayType": "Text",
       "validationRegex": null
      },
      "parameterDataType": "String"
     },
     "widgetInfo": {
      "widgetType": "text",
      "defaultValue": "",
      "label": null,
      "name": "employee_name",
      "options": {
       "widgetType": "text",
       "autoCreated": true,
       "validationRegex": null
      }
     }
    },
    "table_name": {
     "currentValue": "",
     "nuid": "4b04f14e-3731-4852-a7fc-fc7e2ad0eb66",
     "typedWidgetInfo": {
      "autoCreated": true,
      "defaultValue": "",
      "label": null,
      "name": "table_name",
      "options": {
       "widgetDisplayType": "Text",
       "validationRegex": null
      },
      "parameterDataType": "String"
     },
     "widgetInfo": {
      "widgetType": "text",
      "defaultValue": "",
      "label": null,
      "name": "table_name",
      "options": {
       "widgetType": "text",
       "autoCreated": true,
       "validationRegex": null
      }
     }
    }
   }
  },
  "language_info": {
   "name": "sql"
  }
 },
 "nbformat": 4,
 "nbformat_minor": 0
}
