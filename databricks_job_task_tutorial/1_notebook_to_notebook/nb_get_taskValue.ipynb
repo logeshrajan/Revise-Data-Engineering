{
 "cells": [
  {
   "cell_type": "markdown",
   "metadata": {
    "application/vnd.databricks.v1+cell": {
     "cellMetadata": {},
     "inputWidgets": {},
     "nuid": "79bbbc49-8d8b-442f-b9eb-f004134606fe",
     "showTitle": false,
     "tableResultSettingsMap": {},
     "title": ""
    }
   },
   "source": [
    "- task `nb_set_taskValue`  should be there in same job with expected taskKeys to read"
   ]
  },
  {
   "cell_type": "markdown",
   "metadata": {
    "application/vnd.databricks.v1+cell": {
     "cellMetadata": {},
     "inputWidgets": {},
     "nuid": "54e4722c-ce6a-4aa4-8fd5-155d7f3cf503",
     "showTitle": false,
     "tableResultSettingsMap": {},
     "title": ""
    }
   },
   "source": [
    "### Reading INT"
   ]
  },
  {
   "cell_type": "code",
   "execution_count": 0,
   "metadata": {
    "application/vnd.databricks.v1+cell": {
     "cellMetadata": {
      "byteLimit": 2048000,
      "rowLimit": 10000
     },
     "inputWidgets": {},
     "nuid": "60f3818f-4b7a-4dbd-b156-6f67080397c8",
     "showTitle": false,
     "tableResultSettingsMap": {},
     "title": ""
    }
   },
   "outputs": [],
   "source": [
    "total_emp_count = dbutils.jobs.taskValues.get(taskKey = \"nb_set_taskValue\", key = \"total_emp_count\")\n",
    "print('total_emp_count', total_emp_count)\n",
    "print('Type of total_emp_count', type(total_emp_count))"
   ]
  },
  {
   "cell_type": "markdown",
   "metadata": {
    "application/vnd.databricks.v1+cell": {
     "cellMetadata": {},
     "inputWidgets": {},
     "nuid": "ff2fabc7-6c2f-413d-9ec0-97b132e1938e",
     "showTitle": false,
     "tableResultSettingsMap": {},
     "title": ""
    }
   },
   "source": [
    "### Reading LIST/SET"
   ]
  },
  {
   "cell_type": "code",
   "execution_count": 0,
   "metadata": {
    "application/vnd.databricks.v1+cell": {
     "cellMetadata": {},
     "inputWidgets": {},
     "nuid": "1b84323b-efe5-4487-8a57-ac6d92fcde7b",
     "showTitle": false,
     "tableResultSettingsMap": {},
     "title": ""
    }
   },
   "outputs": [],
   "source": [
    "department_list = dbutils.jobs.taskValues.get(taskKey = \"nb_set_taskValue\", key = \"department_list\")\n",
    "print('department_list', department_list)\n",
    "print('Type of department_list', type(department_list))"
   ]
  },
  {
   "cell_type": "markdown",
   "metadata": {
    "application/vnd.databricks.v1+cell": {
     "cellMetadata": {},
     "inputWidgets": {},
     "nuid": "d759db84-0cfa-4ca8-88c2-cadf35c44bc2",
     "showTitle": false,
     "tableResultSettingsMap": {},
     "title": ""
    }
   },
   "source": [
    "### Reading Dictionary"
   ]
  },
  {
   "cell_type": "code",
   "execution_count": 0,
   "metadata": {
    "application/vnd.databricks.v1+cell": {
     "cellMetadata": {},
     "inputWidgets": {},
     "nuid": "f7755815-891a-41e6-a13f-e90d8f8f98cd",
     "showTitle": false,
     "tableResultSettingsMap": {},
     "title": ""
    }
   },
   "outputs": [],
   "source": [
    "max_salary_department = dbutils.jobs.taskValues.get(taskKey = \"nb_set_taskValue\", key = \"max_salary_department\")\n",
    "print('max_salary_department', max_salary_department)\n",
    "print('Type of max_salary_department', type(max_salary_department))"
   ]
  },
  {
   "cell_type": "markdown",
   "metadata": {
    "application/vnd.databricks.v1+cell": {
     "cellMetadata": {},
     "inputWidgets": {},
     "nuid": "d1a5b9c4-ac2f-4106-bc67-8de045e16266",
     "showTitle": false,
     "tableResultSettingsMap": {},
     "title": ""
    }
   },
   "source": [
    "### Read taskValue as notebook parameter\n",
    "- Need to cast the read data to required data type"
   ]
  },
  {
   "cell_type": "code",
   "execution_count": 0,
   "metadata": {
    "application/vnd.databricks.v1+cell": {
     "cellMetadata": {
      "byteLimit": 2048000,
      "rowLimit": 10000
     },
     "inputWidgets": {},
     "nuid": "c82ad2a0-a9c1-4b24-9daf-a87800ea81ea",
     "showTitle": false,
     "tableResultSettingsMap": {},
     "title": ""
    }
   },
   "outputs": [],
   "source": [
    "dbutils.widgets.text('emp_count_as_nb_param', '')\n",
    "taskValue_as_nb_param = dbutils.widgets.get('emp_count_as_nb_param')\n",
    "print('Notebook Parameter `taskValue_as_nb_param`', taskValue_as_nb_param)\n",
    "print('Type of `taskValue_as_nb_param`', type(taskValue_as_nb_param))"
   ]
  }
 ],
 "metadata": {
  "application/vnd.databricks.v1+notebook": {
   "computePreferences": null,
   "dashboards": [],
   "environmentMetadata": {
    "base_environment": "",
    "environment_version": "3"
   },
   "inputWidgetPreferences": null,
   "language": "python",
   "notebookMetadata": {
    "pythonIndentUnit": 4
   },
   "notebookName": "nb_get_taskValue",
   "widgets": {}
  },
  "language_info": {
   "name": "python"
  }
 },
 "nbformat": 4,
 "nbformat_minor": 0
}
