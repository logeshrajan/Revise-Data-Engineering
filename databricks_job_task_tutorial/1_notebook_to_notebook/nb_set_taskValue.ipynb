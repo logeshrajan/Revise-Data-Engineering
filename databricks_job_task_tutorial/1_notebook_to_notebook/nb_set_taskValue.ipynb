{
 "cells": [
  {
   "cell_type": "markdown",
   "metadata": {
    "application/vnd.databricks.v1+cell": {
     "cellMetadata": {},
     "inputWidgets": {},
     "nuid": "8cc49dc2-fc93-4e31-9084-d0ff53f9db66",
     "showTitle": false,
     "tableResultSettingsMap": {},
     "title": ""
    }
   },
   "source": [
    "- Set task name as `nb_set_taskValue` to which this notebook is attached\n",
    "- You can set in one task and read it from any other task even when it is not linked to that original task where that taskValue set.\n",
    "  - For example `[nb_set_taskValue => nb_get_taskValue => etc...]` Any notebook in same job which runs post `nb_set_taskValue` can access it."
   ]
  },
  {
   "cell_type": "markdown",
   "metadata": {
    "application/vnd.databricks.v1+cell": {
     "cellMetadata": {},
     "inputWidgets": {},
     "nuid": "614f462e-4722-4122-b306-408d7ac7e8ef",
     "showTitle": false,
     "tableResultSettingsMap": {},
     "title": ""
    }
   },
   "source": [
    "# Create DF"
   ]
  },
  {
   "cell_type": "code",
   "execution_count": 0,
   "metadata": {
    "application/vnd.databricks.v1+cell": {
     "cellMetadata": {
      "byteLimit": 2048000,
      "rowLimit": 10000
     },
     "inputWidgets": {},
     "nuid": "3adc295a-1061-47f1-91e8-5cf040f95785",
     "showTitle": false,
     "tableResultSettingsMap": {},
     "title": ""
    }
   },
   "outputs": [],
   "source": [
    "data = [\n",
    "    ('Alice', 'Engineering', 1, 100000),\n",
    "    ('Bob', 'Engineering', 2, 120000),\n",
    "    ('Charlie', 'HR', 3, 90000),\n",
    "    ('David', 'Marketing', 4, 110000),\n",
    "    ('Eve', 'HR', 5, 95000),\n",
    "    ('Frank', 'Marketing', 6, 105000),\n",
    "    ('Grace', 'Engineering', 7, 130000),\n",
    "    ('Heidi', 'HR', 8, 98000)\n",
    "]\n",
    "columns = ['employee', 'department', 'level', 'salary']\n",
    "df = spark.createDataFrame(data, columns)\n",
    "\n"
   ]
  },
  {
   "cell_type": "markdown",
   "metadata": {
    "application/vnd.databricks.v1+cell": {
     "cellMetadata": {},
     "inputWidgets": {},
     "nuid": "762a7753-1d40-4ae4-8aef-adb464b562e3",
     "showTitle": false,
     "tableResultSettingsMap": {},
     "title": ""
    }
   },
   "source": [
    "### SET INT as taskValues"
   ]
  },
  {
   "cell_type": "code",
   "execution_count": 0,
   "metadata": {
    "application/vnd.databricks.v1+cell": {
     "cellMetadata": {},
     "inputWidgets": {},
     "nuid": "654fc594-1e46-45da-ab29-1136a57e380f",
     "showTitle": false,
     "tableResultSettingsMap": {},
     "title": ""
    }
   },
   "outputs": [],
   "source": [
    "emp_count = df.count()\n",
    "print(f\"Total number of employees: {emp_count}\")\n",
    "dbutils.jobs.taskValues.set(\"total_emp_count\", emp_count)"
   ]
  },
  {
   "cell_type": "markdown",
   "metadata": {
    "application/vnd.databricks.v1+cell": {
     "cellMetadata": {},
     "inputWidgets": {},
     "nuid": "bdb7ebf1-0294-4205-8254-951c04dd1c94",
     "showTitle": false,
     "tableResultSettingsMap": {},
     "title": ""
    }
   },
   "source": [
    "### Set LIST/SET as taskValue"
   ]
  },
  {
   "cell_type": "code",
   "execution_count": 0,
   "metadata": {
    "application/vnd.databricks.v1+cell": {
     "cellMetadata": {
      "byteLimit": 2048000,
      "rowLimit": 10000
     },
     "inputWidgets": {},
     "nuid": "5f2a4704-bf2c-4dd1-999e-6762954fa60a",
     "showTitle": false,
     "tableResultSettingsMap": {},
     "title": ""
    }
   },
   "outputs": [],
   "source": [
    "department_list = [dep.department for dep in df.select('department').collect()]\n",
    "print('department_list: ', department_list)\n",
    "dbutils.jobs.taskValues.set(\"department_list\", department_list)"
   ]
  },
  {
   "cell_type": "markdown",
   "metadata": {
    "application/vnd.databricks.v1+cell": {
     "cellMetadata": {},
     "inputWidgets": {},
     "nuid": "ddb460aa-e5c4-4d6f-bed0-24e0eeb4bb5a",
     "showTitle": false,
     "tableResultSettingsMap": {},
     "title": ""
    }
   },
   "source": [
    "### Set Dictionary as taskValue"
   ]
  },
  {
   "cell_type": "code",
   "execution_count": 0,
   "metadata": {
    "application/vnd.databricks.v1+cell": {
     "cellMetadata": {
      "byteLimit": 2048000,
      "rowLimit": 10000
     },
     "inputWidgets": {},
     "nuid": "7c495ca2-1b13-408b-856b-6f9ea08e0501",
     "showTitle": false,
     "tableResultSettingsMap": {},
     "title": ""
    }
   },
   "outputs": [],
   "source": [
    "from pyspark.sql.functions import *\n",
    "grouped_df = df.groupBy('department').agg(max(col('salary')).alias('max_salary'))\n",
    "grouped_dict = {row['department']: row['max_salary'] for row in grouped_df.collect()}\n",
    "print('grouped_dict: ', grouped_dict)\n",
    "dbutils.jobs.taskValues.set(\"max_salary_department\", grouped_dict)"
   ]
  },
  {
   "cell_type": "markdown",
   "metadata": {
    "application/vnd.databricks.v1+cell": {
     "cellMetadata": {},
     "inputWidgets": {},
     "nuid": "ed19665d-7f75-4e5d-a67e-5225e8f1de65",
     "showTitle": false,
     "tableResultSettingsMap": {},
     "title": ""
    }
   },
   "source": [
    "### Set it as taskValue and access it as notebook param in receiving end.\n",
    "- But the notebook should cast the data as dbutils.widgets.text('name','defaultValue','label') will return text as output when reading.\n",
    "- Need to pass this as `task parameter` and add the taskValue there as input `{{tasks.nb_set_taskValue.values.emp_count_as_nb_param}}` and read it in receiving end using `dbutils.widgets.text` and `dbutils.widgets.text`"
   ]
  },
  {
   "cell_type": "code",
   "execution_count": 0,
   "metadata": {
    "application/vnd.databricks.v1+cell": {
     "cellMetadata": {},
     "inputWidgets": {},
     "nuid": "7782a2f6-27b3-4049-81f1-2096f1b58f07",
     "showTitle": false,
     "tableResultSettingsMap": {},
     "title": ""
    }
   },
   "outputs": [],
   "source": [
    "emp_count = df.count()\n",
    "print(f\"Total number of employees: {emp_count}\")\n",
    "dbutils.jobs.taskValues.set(\"emp_count_as_nb_param\", emp_count)"
   ]
  },
  {
   "cell_type": "markdown",
   "metadata": {
    "application/vnd.databricks.v1+cell": {
     "cellMetadata": {},
     "inputWidgets": {},
     "nuid": "d24cf9d2-cac1-4447-9127-d69b59d5d8aa",
     "showTitle": false,
     "tableResultSettingsMap": {},
     "title": ""
    }
   },
   "source": [
    "### Setting Class as taskValue is not possible\n",
    "`TypeError: Object of type ABC is not JSON serializable`"
   ]
  },
  {
   "cell_type": "code",
   "execution_count": 0,
   "metadata": {
    "application/vnd.databricks.v1+cell": {
     "cellMetadata": {},
     "inputWidgets": {},
     "nuid": "b4ae63f6-dec8-4f17-b61c-9877b95b732b",
     "showTitle": false,
     "tableResultSettingsMap": {},
     "title": ""
    }
   },
   "outputs": [],
   "source": [
    "# class ABC:\n",
    "#   def __init__(self, name):\n",
    "#     self.name = name\n",
    "    \n",
    "# abc = ABC('Logesh')\n",
    "# print('abc.name: ', abc.name)\n",
    "# dbutils.jobs.taskValues.set(\"abc\", abc)"
   ]
  }
 ],
 "metadata": {
  "application/vnd.databricks.v1+notebook": {
   "computePreferences": null,
   "dashboards": [],
   "environmentMetadata": {
    "base_environment": "",
    "environment_version": "3"
   },
   "inputWidgetPreferences": null,
   "language": "python",
   "notebookMetadata": {
    "pythonIndentUnit": 4
   },
   "notebookName": "nb_set_taskValue",
   "widgets": {}
  },
  "language_info": {
   "name": "python"
  }
 },
 "nbformat": 4,
 "nbformat_minor": 0
}
