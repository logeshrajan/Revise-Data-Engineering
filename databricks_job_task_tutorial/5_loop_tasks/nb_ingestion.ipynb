{
 "cells": [
  {
   "cell_type": "markdown",
   "metadata": {
    "application/vnd.databricks.v1+cell": {
     "cellMetadata": {},
     "inputWidgets": {},
     "nuid": "e5d5de72-4b1f-45be-8968-d4925ee35657",
     "showTitle": false,
     "tableResultSettingsMap": {},
     "title": ""
    }
   },
   "source": [
    "### Foreach inputs as List\n",
    "- inputs -> [\"customer\",\"orders\"]\n",
    "\n",
    "- notebook parameter -> {\"table_name\": \"{{input}}\"}"
   ]
  },
  {
   "cell_type": "code",
   "execution_count": 0,
   "metadata": {
    "application/vnd.databricks.v1+cell": {
     "cellMetadata": {},
     "inputWidgets": {},
     "nuid": "577de171-58a6-4408-bfd7-8ed1d6b29f36",
     "showTitle": false,
     "tableResultSettingsMap": {},
     "title": ""
    }
   },
   "outputs": [],
   "source": [
    "dbutils.widgets.text(\"table_name\", \"N/A\")\n",
    "table_name = dbutils.widgets.get(\"table_name\")\n",
    "print('Table Name: ', table_name)"
   ]
  },
  {
   "cell_type": "markdown",
   "metadata": {
    "application/vnd.databricks.v1+cell": {
     "cellMetadata": {},
     "inputWidgets": {},
     "nuid": "df388c48-a2ee-4303-b6e3-fa4d57b7c2c9",
     "showTitle": false,
     "tableResultSettingsMap": {},
     "title": ""
    }
   },
   "source": [
    "%md\n",
    "### Foreach inputs as Dictionary (from sql/query/notebook)\n",
    "- source -> meta_data_output = [{'name': 'John', 'salary': 3000},\n",
    "                     {'name': 'Mary', 'salary': 2000},\n",
    "                      {'name': 'Mike', 'salary': 4000}]\n",
    "\n",
    "- inputs -> {{tasks.nb_set_taskValues.values.meta_data_output}}\n",
    "\n",
    "- notebook parameter -> {  \"employee_details\": \"{{input}}\"}"
   ]
  },
  {
   "cell_type": "code",
   "execution_count": 0,
   "metadata": {
    "application/vnd.databricks.v1+cell": {
     "cellMetadata": {},
     "inputWidgets": {},
     "nuid": "e372721a-ac17-4cc5-b587-3ca0d3dd889c",
     "showTitle": false,
     "tableResultSettingsMap": {},
     "title": ""
    }
   },
   "outputs": [],
   "source": [
    "dbutils.widgets.text(\"employee_details\", \"N/A\")\n",
    "employee_details = dbutils.widgets.get(\"employee_details\")\n",
    "print('Table Name: ', employee_details)"
   ]
  },
  {
   "cell_type": "markdown",
   "metadata": {
    "application/vnd.databricks.v1+cell": {
     "cellMetadata": {},
     "inputWidgets": {},
     "nuid": "707c4d94-9bf4-4895-8b69-75351c9e5efc",
     "showTitle": false,
     "tableResultSettingsMap": {},
     "title": ""
    }
   },
   "source": [
    "### You can do similar things for sql/query file as well."
   ]
  }
 ],
 "metadata": {
  "application/vnd.databricks.v1+notebook": {
   "computePreferences": null,
   "dashboards": [],
   "environmentMetadata": {
    "base_environment": "",
    "environment_version": "3"
   },
   "inputWidgetPreferences": null,
   "language": "python",
   "notebookMetadata": {
    "pythonIndentUnit": 4
   },
   "notebookName": "nb_ingestion",
   "widgets": {}
  },
  "language_info": {
   "name": "python"
  }
 },
 "nbformat": 4,
 "nbformat_minor": 0
}
