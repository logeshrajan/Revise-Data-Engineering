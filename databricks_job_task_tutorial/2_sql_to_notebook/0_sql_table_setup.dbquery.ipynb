{
 "cells": [
  {
   "cell_type": "code",
   "execution_count": 0,
   "metadata": {
    "application/vnd.databricks.v1+cell": {
     "cellMetadata": {},
     "inputWidgets": {},
     "nuid": "77231239-9b98-4eaa-abfd-00ae08c20dbc",
     "showTitle": false,
     "tableResultSettingsMap": {},
     "title": ""
    }
   },
   "outputs": [],
   "source": [
    "-- -- Execute it once to create metadata\n",
    "-- -- create catalog catalog_deltalake\n",
    "-- -- create table if not exists catalog_deltalake.default.employee (employee string, department string, level long, salary long);\n",
    "-- -- insert into catalog_deltalake.default.employee values\n",
    "-- -- ('Alice', 'Engineering', 1, 100000),\n",
    "-- -- ('Bob', 'Engineering', 2, 120000),\n",
    "-- -- ('Charlie', 'HR', 3, 90000),\n",
    "-- -- ('David', 'Marketing', 4, 110000),\n",
    "-- -- ('Eve', 'HR', 5, 95000),\n",
    "-- -- ('Frank', 'Marketing', 6, 105000),\n",
    "-- -- ('Grace', 'Engineering', 7, 130000),\n",
    "-- -- ('Heidi', 'HR', 8, 98000);\n",
    "------------------------------------------------------------------------------------------------"
   ]
  }
 ],
 "metadata": {
  "application/vnd.databricks.v1+notebook": {
   "computePreferences": null,
   "dashboards": [],
   "environmentMetadata": null,
   "inputWidgetPreferences": null,
   "language": "sql",
   "notebookMetadata": {
    "pythonIndentUnit": 4,
    "sqlQueryOptions": {
     "applyAutoLimit": true,
     "catalog": "datalakeadws",
     "schema": "default"
    }
   },
   "notebookName": "0_sql_table_setup.dbquery.ipynb",
   "widgets": {}
  },
  "language_info": {
   "name": "sql"
  }
 },
 "nbformat": 4,
 "nbformat_minor": 0
}
