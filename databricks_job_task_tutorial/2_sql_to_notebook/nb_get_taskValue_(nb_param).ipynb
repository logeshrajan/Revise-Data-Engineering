{
 "cells": [
  {
   "cell_type": "markdown",
   "metadata": {
    "application/vnd.databricks.v1+cell": {
     "cellMetadata": {},
     "inputWidgets": {},
     "nuid": "38a59290-799e-4ed8-8a7b-a710a66983f0",
     "showTitle": false,
     "tableResultSettingsMap": {},
     "title": ""
    }
   },
   "source": [
    "- Task `sql_task` should be there in same job and the query `query_set_taskValue` is attahed to it.\n",
    "- Parameter to be set for this entire notebook \n",
    "`        {\n",
    "        \"emp_details\": \"{{tasks.sql_task.output.rows}}\",\n",
    "        \"employee_name\": \"{{tasks.sql_task.output.first_row.employee}}\",\n",
    "        \"top1_emp_details\": \"{{tasks.sql_task.output.first_row}}\"\n",
    "        }`\n",
    "- Since we are reading data from widgets it will always be in string data type"
   ]
  },
  {
   "cell_type": "markdown",
   "metadata": {
    "application/vnd.databricks.v1+cell": {
     "cellMetadata": {},
     "inputWidgets": {},
     "nuid": "49c9a203-c0d2-4157-bc4c-27eae04149c3",
     "showTitle": false,
     "tableResultSettingsMap": {},
     "title": ""
    }
   },
   "source": [
    "### Read First or single row's `specific column` data from SQL output\n",
    "- Notebook param needs to be set. `{{tasks.<taskname>.output.first_row.<output_column_name>}}`\n",
    "  - Task param json = {\"employee_name\": \"{{tasks.sql_task.output.first_row.employee}}\"}"
   ]
  },
  {
   "cell_type": "code",
   "execution_count": 0,
   "metadata": {
    "application/vnd.databricks.v1+cell": {
     "cellMetadata": {},
     "inputWidgets": {},
     "nuid": "742dcdaa-590d-4da0-8dfd-a3e1677e0a82",
     "showTitle": false,
     "tableResultSettingsMap": {},
     "title": ""
    }
   },
   "outputs": [],
   "source": [
    "dbutils.widgets.text(\"employee_name\", \"0\")\n",
    "employee_name = dbutils.widgets.get(\"employee_name\")\n",
    "print(\"Total employee name:\", employee_name)\n",
    "print(\"Type of `employee_name`: '\", type(employee_name))\n",
    "\n"
   ]
  },
  {
   "cell_type": "markdown",
   "metadata": {
    "application/vnd.databricks.v1+cell": {
     "cellMetadata": {},
     "inputWidgets": {},
     "nuid": "c7059c74-aaed-49aa-897d-513dfdef7fb8",
     "showTitle": false,
     "tableResultSettingsMap": {},
     "title": ""
    }
   },
   "source": [
    "### Read First or single row's `Many column's` data from SQL output (As dictionary)\n",
    "- Notebook param needs to be set. `{{tasks.<taskname>.output.first_row}}`\n",
    "  - Task param json = {\"top1_emp_details\": \"{{tasks.sql_task.output.first_row}}\"}"
   ]
  },
  {
   "cell_type": "code",
   "execution_count": 0,
   "metadata": {
    "application/vnd.databricks.v1+cell": {
     "cellMetadata": {},
     "inputWidgets": {},
     "nuid": "3c97e145-2d9d-436a-ac19-dc1767e270ef",
     "showTitle": false,
     "tableResultSettingsMap": {},
     "title": ""
    }
   },
   "outputs": [],
   "source": [
    "dbutils.widgets.text(\"top1_emp_details\", \"N/A\")\n",
    "top1_emp_details = dbutils.widgets.get(\"top1_emp_details\")\n",
    "print(\"Total top1_emp_details:\", top1_emp_details)\n",
    "print(\"Type of `top1_emp_details`: '\", type(top1_emp_details))\n",
    "\n"
   ]
  },
  {
   "cell_type": "markdown",
   "metadata": {
    "application/vnd.databricks.v1+cell": {
     "cellMetadata": {},
     "inputWidgets": {},
     "nuid": "f25257d8-2a12-4fd0-b0fd-08c5b2aa2c61",
     "showTitle": false,
     "tableResultSettingsMap": {},
     "title": ""
    }
   },
   "source": [
    "### Read Multiple row's `Many column's` data from SQL output (As list of dictionary)\n",
    "- Notebook param needs to be set. `{{tasks.<taskname>.output.rows}}`\n",
    "  - Task param json = {\"emp_details\": \"{{tasks.sql_task.output.rows}}\"}"
   ]
  },
  {
   "cell_type": "code",
   "execution_count": 0,
   "metadata": {
    "application/vnd.databricks.v1+cell": {
     "cellMetadata": {},
     "inputWidgets": {},
     "nuid": "ef400b80-47f6-4289-9b1d-09399eaa4bc2",
     "showTitle": false,
     "tableResultSettingsMap": {},
     "title": ""
    }
   },
   "outputs": [],
   "source": [
    "dbutils.widgets.text(\"emp_details\", \"N/A\")\n",
    "emp_details = dbutils.widgets.get(\"emp_details\")\n",
    "print(\"Total emp_details:\", emp_details)\n",
    "print(\"Type of `emp_details`: '\", type(emp_details))"
   ]
  }
 ],
 "metadata": {
  "application/vnd.databricks.v1+notebook": {
   "computePreferences": {
    "hardware": {
     "accelerator": null,
     "gpuPoolId": null,
     "memory": null
    }
   },
   "dashboards": [],
   "environmentMetadata": {
    "base_environment": "",
    "environment_version": "3"
   },
   "inputWidgetPreferences": null,
   "language": "python",
   "notebookMetadata": {
    "pythonIndentUnit": 4
   },
   "notebookName": "nb_get_taskValue_(nb_param)",
   "widgets": {}
  },
  "language_info": {
   "name": "python"
  }
 },
 "nbformat": 4,
 "nbformat_minor": 0
}
