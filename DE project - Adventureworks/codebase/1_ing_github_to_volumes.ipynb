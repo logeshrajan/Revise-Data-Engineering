{
 "cells": [
  {
   "cell_type": "code",
   "execution_count": 0,
   "metadata": {
    "application/vnd.databricks.v1+cell": {
     "cellMetadata": {
      "byteLimit": 2048000,
      "rowLimit": 10000
     },
     "inputWidgets": {},
     "nuid": "4998ee73-8a34-4d64-aa83-171e4746c09e",
     "showTitle": false,
     "tableResultSettingsMap": {},
     "title": ""
    }
   },
   "outputs": [],
   "source": [
    "import requests\n",
    "import pandas as pd"
   ]
  },
  {
   "cell_type": "code",
   "execution_count": 0,
   "metadata": {
    "application/vnd.databricks.v1+cell": {
     "cellMetadata": {
      "byteLimit": 2048000,
      "rowLimit": 10000
     },
     "inputWidgets": {},
     "nuid": "d66c2b45-1619-421c-92cb-43f30d51ff58",
     "showTitle": false,
     "tableResultSettingsMap": {},
     "title": ""
    }
   },
   "outputs": [],
   "source": [
    "\n",
    "dbutils.widgets.dropdown(\"git_owner\", \"logeshrajan\", [\"logeshrajan\"])\n",
    "dbutils.widgets.dropdown(\"git_repo_name\", \"Adventureworks-data-engineering\", [\"Adventureworks-data-engineering\"])\n",
    "dbutils.widgets.text(\"git_source_folder_path\", \"data\")\n",
    "dbutils.widgets.text(\"volume_path\", \"/Volumes/adventureworks/raw/source_data\")"
   ]
  },
  {
   "cell_type": "code",
   "execution_count": 0,
   "metadata": {
    "application/vnd.databricks.v1+cell": {
     "cellMetadata": {
      "byteLimit": 2048000,
      "rowLimit": 10000
     },
     "inputWidgets": {},
     "nuid": "9179858e-ae6c-43f9-9ea4-3a9d51a564f8",
     "showTitle": false,
     "tableResultSettingsMap": {},
     "title": ""
    }
   },
   "outputs": [],
   "source": [
    "# Function to list all files in a specified GitHub folder using the GitHub API\n",
    "def list_github_folder_files(owner, repo, folder_path):\n",
    "    url = f\"https://api.github.com/repos/{owner}/{repo}/contents/{folder_path}?ref=main\"\n",
    "    response = requests.get(url)\n",
    "    if response.status_code == 200:\n",
    "        obj_files = response.json()\n",
    "        files = [{'file_name': file[\"name\"].split('.')[0].replace('AdventureWorks_','').lower()\n",
    "                  , 'source_url': file[\"download_url\"]}\n",
    "                 for file in obj_files if file[\"type\"] == \"file\"]\n",
    "        print('Total no of files: ', len(files))\n",
    "        return files\n",
    "    else:\n",
    "        print(f\"Failed to fetch files: {response.status_code} - {response.text}\")\n",
    "\n",
    "def pull_data_from_github_to_volume(file_detail, volume_path):\n",
    "    download_url = file_detail['source_url']\n",
    "    file_name = file_detail['file_name']\n",
    "    dbutils.fs.cp(download_url, f\"{volume_path}/{file_name}/{file_name}.csv\")\n",
    "    print(f\"    File {file_detail['file_name']} copied successfully to {volume_path}/{file_name}/\")\n",
    "    print()"
   ]
  },
  {
   "cell_type": "code",
   "execution_count": 0,
   "metadata": {
    "application/vnd.databricks.v1+cell": {
     "cellMetadata": {
      "byteLimit": 2048000,
      "rowLimit": 10000
     },
     "inputWidgets": {},
     "nuid": "3c5a9e8d-2820-4794-b74a-77c5610cd84f",
     "showTitle": false,
     "tableResultSettingsMap": {},
     "title": ""
    }
   },
   "outputs": [],
   "source": [
    "owner = dbutils.widgets.get(\"git_owner\")\n",
    "repo = dbutils.widgets.get(\"git_repo_name\")\n",
    "folder_path = dbutils.widgets.get(\"git_source_folder_path\")\n",
    "volume_path = dbutils.widgets.get(\"volume_path\")"
   ]
  },
  {
   "cell_type": "code",
   "execution_count": 0,
   "metadata": {
    "application/vnd.databricks.v1+cell": {
     "cellMetadata": {
      "byteLimit": 2048000,
      "rowLimit": 10000
     },
     "inputWidgets": {},
     "nuid": "7330a787-cf34-493b-ac24-d80706c4eac5",
     "showTitle": false,
     "tableResultSettingsMap": {},
     "title": ""
    }
   },
   "outputs": [],
   "source": [
    "file_list_urls = list_github_folder_files(owner, repo, folder_path)\n",
    "for file_detail in file_list_urls:\n",
    "    print(f\"Copying file: {file_detail}\")\n",
    "    try:\n",
    "        pull_data_from_github_to_volume(file_detail, volume_path)\n",
    "    except Exception as e:\n",
    "        print(f\"    Error copying file: {file_detail}. Error: {e}\")\n",
    "        print()"
   ]
  }
 ],
 "metadata": {
  "application/vnd.databricks.v1+notebook": {
   "computePreferences": null,
   "dashboards": [],
   "environmentMetadata": {
    "base_environment": "",
    "environment_version": "3"
   },
   "inputWidgetPreferences": null,
   "language": "python",
   "notebookMetadata": {
    "pythonIndentUnit": 4
   },
   "notebookName": "1_ing_github_to_volumes",
   "widgets": {
    "git_owner": {
     "currentValue": "logeshrajan",
     "nuid": "fd4cf3b2-fd3d-4e42-adee-a049e8593b48",
     "typedWidgetInfo": {
      "autoCreated": false,
      "defaultValue": "logeshrajan",
      "label": null,
      "name": "git_owner",
      "options": {
       "widgetDisplayType": "Dropdown",
       "choices": [
        "logeshrajan"
       ],
       "fixedDomain": true,
       "multiselect": false
      },
      "parameterDataType": "String"
     },
     "widgetInfo": {
      "widgetType": "dropdown",
      "defaultValue": "logeshrajan",
      "label": null,
      "name": "git_owner",
      "options": {
       "widgetType": "dropdown",
       "autoCreated": null,
       "choices": [
        "logeshrajan"
       ]
      }
     }
    },
    "git_repo_name": {
     "currentValue": "Adventureworks-data-engineering",
     "nuid": "2abff630-2fad-423c-b83b-e0216360019a",
     "typedWidgetInfo": {
      "autoCreated": false,
      "defaultValue": "Adventureworks-data-engineering",
      "label": null,
      "name": "git_repo_name",
      "options": {
       "widgetDisplayType": "Dropdown",
       "choices": [
        "Adventureworks-data-engineering"
       ],
       "fixedDomain": true,
       "multiselect": false
      },
      "parameterDataType": "String"
     },
     "widgetInfo": {
      "widgetType": "dropdown",
      "defaultValue": "Adventureworks-data-engineering",
      "label": null,
      "name": "git_repo_name",
      "options": {
       "widgetType": "dropdown",
       "autoCreated": null,
       "choices": [
        "Adventureworks-data-engineering"
       ]
      }
     }
    },
    "git_source_folder_path": {
     "currentValue": "data",
     "nuid": "cc7e00a4-40a6-4903-bb82-ecf896832fe9",
     "typedWidgetInfo": {
      "autoCreated": false,
      "defaultValue": "data",
      "label": null,
      "name": "git_source_folder_path",
      "options": {
       "widgetDisplayType": "Text",
       "validationRegex": null
      },
      "parameterDataType": "String"
     },
     "widgetInfo": {
      "widgetType": "text",
      "defaultValue": "data",
      "label": null,
      "name": "git_source_folder_path",
      "options": {
       "widgetType": "text",
       "autoCreated": null,
       "validationRegex": null
      }
     }
    },
    "volume_path": {
     "currentValue": "/Volumes/adventureworks/raw/source_data",
     "nuid": "a0935fb8-d510-4935-8795-fc423601ee12",
     "typedWidgetInfo": {
      "autoCreated": false,
      "defaultValue": "/Volumes/adventureworks/raw/source_data",
      "label": null,
      "name": "volume_path",
      "options": {
       "widgetDisplayType": "Text",
       "validationRegex": null
      },
      "parameterDataType": "String"
     },
     "widgetInfo": {
      "widgetType": "text",
      "defaultValue": "/Volumes/adventureworks/raw/source_data",
      "label": null,
      "name": "volume_path",
      "options": {
       "widgetType": "text",
       "autoCreated": null,
       "validationRegex": null
      }
     }
    }
   }
  },
  "language_info": {
   "name": "python"
  }
 },
 "nbformat": 4,
 "nbformat_minor": 0
}
