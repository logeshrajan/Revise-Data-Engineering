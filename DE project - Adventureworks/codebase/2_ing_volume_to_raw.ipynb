{
 "cells": [
  {
   "cell_type": "code",
   "execution_count": 0,
   "metadata": {
    "application/vnd.databricks.v1+cell": {
     "cellMetadata": {
      "byteLimit": 2048000,
      "rowLimit": 10000
     },
     "inputWidgets": {},
     "nuid": "d457c374-f34b-4e8a-9ea3-c5ea7011c2c3",
     "showTitle": false,
     "tableResultSettingsMap": {},
     "title": ""
    }
   },
   "outputs": [],
   "source": [
    "dbutils.widgets.text(\"catalog_name\", \"adventureworks\")\n",
    "dbutils.widgets.text(\"schema_name\", \"raw\")\n",
    "dbutils.widgets.text(\"source_volume_base_path\", \"/Volumes/adventureworks/raw/source_data\")\n",
    "dbutils.widgets.text(\"tables_to_collate\", \"sales\")\n",
    "\n"
   ]
  },
  {
   "cell_type": "code",
   "execution_count": 0,
   "metadata": {
    "application/vnd.databricks.v1+cell": {
     "cellMetadata": {
      "byteLimit": 2048000,
      "rowLimit": 10000
     },
     "inputWidgets": {},
     "nuid": "ad705d60-49ce-4d79-aa1f-5d9938887773",
     "showTitle": false,
     "tableResultSettingsMap": {},
     "title": ""
    }
   },
   "outputs": [],
   "source": [
    "def remove_tables_to_collate(tables_to_collate, tables_to_create):\n",
    "    # Remove tables from tables_to_create that start with any name in tables_to_collate\n",
    "    tables_to_create_filtered = [\n",
    "        table for table in tables_to_create\n",
    "        if not any(table.name.startswith(ct) for ct in tables_to_collate)\n",
    "    ]\n",
    "    return tables_to_create_filtered\n",
    "\n",
    "def ingest_table(source_path, catalog_name, schema_name, table_name):\n",
    "    # Log the start of ingestion\n",
    "    print(f\"Ingestion of {table_name} started.\")\n",
    "    # Read CSV data from the source path into a Spark DataFrame\n",
    "    df = (spark.read.format(\"csv\")\n",
    "          .option(\"header\", \"true\")\n",
    "          .option(\"inferSchema\", \"true\")\n",
    "          .load(source_path)\n",
    "        )\n",
    "    # Write the DataFrame to a table in the specified catalog and schema, overwriting if exists\n",
    "    df.write.mode(\"overwrite\").saveAsTable(f\"{catalog_name}.{schema_name}.{table_name}\")\n",
    "    # Log the completion of ingestion\n",
    "    print(f\"Ingestion of {table_name} completed. \\n\")"
   ]
  },
  {
   "cell_type": "code",
   "execution_count": 0,
   "metadata": {
    "application/vnd.databricks.v1+cell": {
     "cellMetadata": {
      "byteLimit": 2048000,
      "rowLimit": 10000
     },
     "inputWidgets": {},
     "nuid": "23907e23-f15e-4551-b5ba-9fbf2dd5d4d1",
     "showTitle": false,
     "tableResultSettingsMap": {},
     "title": ""
    }
   },
   "outputs": [],
   "source": [
    "# Get the base path for source data from widget\n",
    "source_volume_base_path = dbutils.widgets.get(\"source_volume_base_path\")\n",
    "\n",
    "# Get the list of tables to collate from widget and split into a list\n",
    "tables_to_collate = dbutils.widgets.get(\"tables_to_collate\").split(\",\")\n",
    "\n",
    "# Get the catalog name from widget\n",
    "catalog_name = dbutils.widgets.get(\"catalog_name\")\n",
    "\n",
    "# Get the schema name from widget\n",
    "schema_name = dbutils.widgets.get(\"schema_name\")"
   ]
  },
  {
   "cell_type": "code",
   "execution_count": 0,
   "metadata": {
    "application/vnd.databricks.v1+cell": {
     "cellMetadata": {
      "byteLimit": 2048000,
      "rowLimit": 10000
     },
     "inputWidgets": {},
     "nuid": "52fc1ccb-c6ad-4322-a493-afec8b9969c3",
     "showTitle": false,
     "tableResultSettingsMap": {},
     "title": ""
    }
   },
   "outputs": [],
   "source": [
    "# List all files and directories in the source data base path\n",
    "tc = dbutils.fs.ls(source_volume_base_path)\n",
    "\n",
    "# Remove tables to collate from the list of tables to create\n",
    "tables_to_create = remove_tables_to_collate(tables_to_collate, tc)\n",
    "\n",
    "# Ingest each table that is not in tables_to_collate\n",
    "for table_info_obj in tables_to_create:\n",
    "    # Extract table name by removing trailing slash\n",
    "    table_name = table_info_obj.name[:-1]\n",
    "    # Construct the source path for the table\n",
    "    source_path = f\"{source_volume_base_path}/{table_name}/\"\n",
    "    # Ingest the table from the source path\n",
    "    ingest_table(source_path, catalog_name, schema_name, table_name)\n",
    "\n",
    "# Ingest each table specified in tables_to_collate using wildcard path\n",
    "for table_name in tables_to_collate:\n",
    "    # Construct the source path with wildcard for collated tables\n",
    "    source_path = f\"{source_volume_base_path}/{table_name}*\"\n",
    "    # Ingest the collated table from the source path\n",
    "    ingest_table(source_path, catalog_name, schema_name, table_name)"
   ]
  }
 ],
 "metadata": {
  "application/vnd.databricks.v1+notebook": {
   "computePreferences": null,
   "dashboards": [],
   "environmentMetadata": {
    "base_environment": "",
    "environment_version": "3"
   },
   "inputWidgetPreferences": null,
   "language": "python",
   "notebookMetadata": {
    "pythonIndentUnit": 4
   },
   "notebookName": "2_ing_volume_to_raw",
   "widgets": {
    "catalog_name": {
     "currentValue": "adventureworks",
     "nuid": "bd6c2675-afa2-4880-9fa2-0ec792a0ef5d",
     "typedWidgetInfo": {
      "autoCreated": false,
      "defaultValue": "adventureworks",
      "label": null,
      "name": "catalog_name",
      "options": {
       "widgetDisplayType": "Text",
       "validationRegex": null
      },
      "parameterDataType": "String"
     },
     "widgetInfo": {
      "widgetType": "text",
      "defaultValue": "adventureworks",
      "label": null,
      "name": "catalog_name",
      "options": {
       "widgetType": "text",
       "autoCreated": null,
       "validationRegex": null
      }
     }
    },
    "schema_name": {
     "currentValue": "raw",
     "nuid": "91b135aa-2190-4577-a1c5-ac31dd1e345a",
     "typedWidgetInfo": {
      "autoCreated": false,
      "defaultValue": "raw",
      "label": null,
      "name": "schema_name",
      "options": {
       "widgetDisplayType": "Text",
       "validationRegex": null
      },
      "parameterDataType": "String"
     },
     "widgetInfo": {
      "widgetType": "text",
      "defaultValue": "raw",
      "label": null,
      "name": "schema_name",
      "options": {
       "widgetType": "text",
       "autoCreated": null,
       "validationRegex": null
      }
     }
    },
    "source_volume_base_path": {
     "currentValue": "/Volumes/adventureworks/raw/source_data",
     "nuid": "05771359-7963-4882-85c2-6d4ccd42e8d6",
     "typedWidgetInfo": {
      "autoCreated": false,
      "defaultValue": "/Volumes/adventureworks/raw/source_data",
      "label": null,
      "name": "source_volume_base_path",
      "options": {
       "widgetDisplayType": "Text",
       "validationRegex": null
      },
      "parameterDataType": "String"
     },
     "widgetInfo": {
      "widgetType": "text",
      "defaultValue": "/Volumes/adventureworks/raw/source_data",
      "label": null,
      "name": "source_volume_base_path",
      "options": {
       "widgetType": "text",
       "autoCreated": null,
       "validationRegex": null
      }
     }
    },
    "tables_to_collate": {
     "currentValue": "sales",
     "nuid": "5273cbeb-6729-48c1-bab4-47f04d8d33e3",
     "typedWidgetInfo": {
      "autoCreated": false,
      "defaultValue": "sales",
      "label": null,
      "name": "tables_to_collate",
      "options": {
       "widgetDisplayType": "Text",
       "validationRegex": null
      },
      "parameterDataType": "String"
     },
     "widgetInfo": {
      "widgetType": "text",
      "defaultValue": "sales",
      "label": null,
      "name": "tables_to_collate",
      "options": {
       "widgetType": "text",
       "autoCreated": null,
       "validationRegex": null
      }
     }
    }
   }
  },
  "language_info": {
   "name": "python"
  }
 },
 "nbformat": 4,
 "nbformat_minor": 0
}
